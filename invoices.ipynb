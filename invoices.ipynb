{
 "cells": [
  {
   "cell_type": "code",
   "execution_count": 28,
   "metadata": {},
   "outputs": [
    {
     "name": "stdout",
     "output_type": "stream",
     "text": [
      "Select a CSV file to load into a Pandas DataFrame\n"
     ]
    },
    {
     "name": "stderr",
     "output_type": "stream",
     "text": [
      "C:\\Users\\Alex\\AppData\\Local\\Temp\\ipykernel_11588\\3869791763.py:19: DtypeWarning: Columns (21) have mixed types. Specify dtype option on import or set low_memory=False.\n",
      "  df = pd.read_csv(file_path)\n"
     ]
    },
    {
     "name": "stdout",
     "output_type": "stream",
     "text": [
      "Number of missing or null values in Payment Total column: 0\n",
      "Total number of rows: 510999\n",
      "Total number of columns: 23\n",
      "Supplier Name                      object\n",
      "Supplier Number                     int64\n",
      "Payment Number                      int64\n",
      "Payment Date               datetime64[ns]\n",
      "Invoice Number                     object\n",
      "Invoice Date                       object\n",
      "Payment Total                     float64\n",
      "Po Number                         float64\n",
      "Receipt Number                    float64\n",
      "Department                         object\n",
      "Account Description                object\n",
      "Fund Description                   object\n",
      "Cost Center Description            object\n",
      "Minority Owned                     object\n",
      "Small Business                     object\n",
      "Women Owned                        object\n",
      "City                               object\n",
      "State                              object\n",
      "Zip                                object\n",
      "Country                            object\n",
      "Vendor Id                           int64\n",
      "Days to Pay                        object\n",
      "Compliant Indicator                object\n",
      "dtype: object\n",
      "Number of rows after filtering: 124950\n"
     ]
    }
   ],
   "source": [
    "import pandas as pd\n",
    "from datetime import datetime\n",
    "import matplotlib.pyplot as plt\n",
    "import tkinter as tk\n",
    "from tkinter import filedialog\n",
    "import time\n",
    "\n",
    "\n",
    "\n",
    "# Create a root Tkinter window (hidden)\n",
    "root = tk.Tk()\n",
    "root.withdraw()\n",
    "\n",
    "# Ask user to select a file\n",
    "print(\"Select a CSV file to load into a Pandas DataFrame\")\n",
    "file_path = filedialog.askopenfilename(filetypes=[('CSV files', '*.csv')])\n",
    "\n",
    "# Load selected file into Pandas DataFrame\n",
    "df = pd.read_csv(file_path)\n",
    "\n",
    "# Convert the Payment Date column to a Pandas DatetimeIndex\n",
    "df['Payment Date'] = pd.to_datetime(df['Payment Date'])\n",
    "df['Payment Total'] = pd.to_numeric(df['Payment Total'].str.replace(',', ''), errors='coerce')\n",
    "\n",
    "\n",
    "\n",
    "# Check for missing or null values in the Payment Total column\n",
    "print(\"Number of missing or null values in Payment Total column:\", df['Payment Total'].isna().sum())\n",
    "\n",
    "# print total number of rows and columns\n",
    "print(\"Total number of rows:\", len(df))\n",
    "print(\"Total number of columns:\", len(df.columns))\n",
    "#print a table of columns and data types\n",
    "print(df.dtypes)\n",
    "\n",
    "# Filter data for transactions over 1000\n",
    "filtered_df = df[df['Payment Total'] > 1000]\n",
    "#print number of rows \n",
    "print(\"Number of rows after filtering:\", len(filtered_df))\n",
    "\n",
    "#choose the first 10000 rows\n",
    "filtered_df = filtered_df.head(10000)\n",
    "\n"
   ]
  },
  {
   "attachments": {},
   "cell_type": "markdown",
   "metadata": {},
   "source": [
    "Load file, convert payment date and total to data types\n",
    "Check total rows and columns and datatypes"
   ]
  },
  {
   "cell_type": "code",
   "execution_count": 29,
   "metadata": {},
   "outputs": [
    {
     "name": "stdout",
     "output_type": "stream",
     "text": [
      "Total number of rows: 375\n"
     ]
    }
   ],
   "source": [
    "def within_1_percent(df):\n",
    "    \"\"\"\n",
    "    Filter data within 1% of each other in the Payment Total column and within 5 days of each other.\n",
    "    \"\"\"\n",
    "    if len(df) >= 2:\n",
    "        mean_payment = df['Payment Total'].mean()\n",
    "        upper_limit = mean_payment * 1.01\n",
    "        lower_limit = mean_payment * 0.99\n",
    "        max_date = df['Payment Date'].max()\n",
    "        min_date = df['Payment Date'].min()\n",
    "        if (max_date - min_date).days <= 5:\n",
    "            return df[(df['Payment Total'] <= upper_limit) & (df['Payment Total'] >= lower_limit)]\n",
    "        else:\n",
    "            return pd.DataFrame()\n",
    "    else:\n",
    "        return pd.DataFrame()\n",
    "        \n",
    "# Filter data for transactions over 1000\n",
    "filtered_df = df[df['Payment Total'] > 1000]\n",
    "\n",
    "#choose the first 10000 rows\n",
    "#filtered_df = filtered_df.head(10000)\n",
    "\n",
    "# Group by Supplier Name and filter for transactions within 1% of each other in the Payment Total column\n",
    "grouped_df = filtered_df.groupby('Supplier Name').apply(within_1_percent).reset_index(drop=True)\n",
    "\n",
    "# Exclude results with less than two rows per vendor\n",
    "grouped_df = grouped_df.groupby('Supplier Name').filter(lambda x: len(x) >= 2)\n",
    "\n",
    "# print total number of rows \n",
    "print(\"Total number of rows:\", len(grouped_df))\n",
    "\n",
    "# Remove empty dataframes from the grouped data\n",
    "grouped_df = grouped_df[grouped_df['Payment Total'].notna()]\n",
    "\n"
   ]
  },
  {
   "attachments": {},
   "cell_type": "markdown",
   "metadata": {},
   "source": [
    "Filter for 1000\n",
    "Filter for Same Supplier, +-5d Payment Date, and 1% payment total "
   ]
  },
  {
   "cell_type": "code",
   "execution_count": 30,
   "metadata": {},
   "outputs": [
    {
     "name": "stdout",
     "output_type": "stream",
     "text": [
      "Saving Excel file...\n",
      "Excel file saved successfully!\n"
     ]
    }
   ],
   "source": [
    "# Save the Excel file\n",
    "print(\"Saving Excel file...\")\n",
    "\n",
    "\n",
    "# Create a Tkinter file save dialog box with default extension '.xlsx'\n",
    "file_path = filedialog.asksaveasfilename(defaultextension='.xlsx', filetypes=[('Excel files', '*.xlsx')])\n",
    "\n",
    "# Create an Excel writer object\n",
    "writer = pd.ExcelWriter(file_path, engine='xlsxwriter')\n",
    "\n",
    "# Write the filtered data to a tab\n",
    "filtered_df.to_excel(writer, sheet_name='Filtered Data', index=False)\n",
    "\n",
    "# Write the grouped data to a tab\n",
    "grouped_df.to_excel(writer, sheet_name='Grouped Data', index=False)\n",
    "\n",
    "\n",
    "\n",
    "\n",
    "print(\"Excel file saved successfully!\")\n",
    "\n",
    "# Close the Excel writer object\n",
    "writer.close()"
   ]
  },
  {
   "cell_type": "markdown",
   "metadata": {},
   "source": []
  }
 ],
 "metadata": {
  "kernelspec": {
   "display_name": "Python 3",
   "language": "python",
   "name": "python3"
  },
  "language_info": {
   "codemirror_mode": {
    "name": "ipython",
    "version": 3
   },
   "file_extension": ".py",
   "mimetype": "text/x-python",
   "name": "python",
   "nbconvert_exporter": "python",
   "pygments_lexer": "ipython3",
   "version": "3.11.2"
  },
  "orig_nbformat": 4
 },
 "nbformat": 4,
 "nbformat_minor": 2
}
