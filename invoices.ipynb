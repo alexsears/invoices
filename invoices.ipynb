{
 "cells": [
  {
   "cell_type": "code",
   "execution_count": 1,
   "metadata": {},
   "outputs": [
    {
     "name": "stdout",
     "output_type": "stream",
     "text": [
      "Select a CSV file to load into a Pandas DataFrame\n"
     ]
    },
    {
     "name": "stderr",
     "output_type": "stream",
     "text": [
      "C:\\Users\\Alex\\AppData\\Local\\Temp\\ipykernel_10332\\3869791763.py:19: DtypeWarning: Columns (21) have mixed types. Specify dtype option on import or set low_memory=False.\n",
      "  df = pd.read_csv(file_path)\n"
     ]
    },
    {
     "name": "stdout",
     "output_type": "stream",
     "text": [
      "Number of missing or null values in Payment Total column: 0\n",
      "Total number of rows: 510999\n",
      "Total number of columns: 23\n",
      "Supplier Name                      object\n",
      "Supplier Number                     int64\n",
      "Payment Number                      int64\n",
      "Payment Date               datetime64[ns]\n",
      "Invoice Number                     object\n",
      "Invoice Date                       object\n",
      "Payment Total                     float64\n",
      "Po Number                         float64\n",
      "Receipt Number                    float64\n",
      "Department                         object\n",
      "Account Description                object\n",
      "Fund Description                   object\n",
      "Cost Center Description            object\n",
      "Minority Owned                     object\n",
      "Small Business                     object\n",
      "Women Owned                        object\n",
      "City                               object\n",
      "State                              object\n",
      "Zip                                object\n",
      "Country                            object\n",
      "Vendor Id                           int64\n",
      "Days to Pay                        object\n",
      "Compliant Indicator                object\n",
      "dtype: object\n",
      "Number of rows after filtering: 124950\n"
     ]
    }
   ],
   "source": [
    "import pandas as pd\n",
    "from datetime import datetime\n",
    "import matplotlib.pyplot as plt\n",
    "import tkinter as tk\n",
    "from tkinter import filedialog\n",
    "import time\n",
    "\n",
    "\n",
    "\n",
    "# Create a root Tkinter window (hidden)\n",
    "root = tk.Tk()\n",
    "root.withdraw()\n",
    "\n",
    "# Ask user to select a file\n",
    "print(\"Select a CSV file to load into a Pandas DataFrame\")\n",
    "file_path = filedialog.askopenfilename(filetypes=[('CSV files', '*.csv')])\n",
    "\n",
    "# Load selected file into Pandas DataFrame\n",
    "df = pd.read_csv(file_path)\n",
    "\n",
    "# Convert the Payment Date column to a Pandas DatetimeIndex\n",
    "df['Payment Date'] = pd.to_datetime(df['Payment Date'])\n",
    "df['Payment Total'] = pd.to_numeric(df['Payment Total'].str.replace(',', ''), errors='coerce')\n",
    "\n",
    "\n",
    "\n",
    "# Check for missing or null values in the Payment Total column\n",
    "print(\"Number of missing or null values in Payment Total column:\", df['Payment Total'].isna().sum())\n",
    "\n",
    "# print total number of rows and columns\n",
    "print(\"Total number of rows:\", len(df))\n",
    "print(\"Total number of columns:\", len(df.columns))\n",
    "#print a table of columns and data types\n",
    "print(df.dtypes)\n",
    "\n",
    "# Filter data for transactions over 1000\n",
    "filtered_df = df[df['Payment Total'] > 1000]\n",
    "#print number of rows \n",
    "print(\"Number of rows after filtering:\", len(filtered_df))\n",
    "\n",
    "#choose the first 10000 rows\n",
    "filtered_df = filtered_df.head(10000)\n",
    "\n"
   ]
  },
  {
   "attachments": {},
   "cell_type": "markdown",
   "metadata": {},
   "source": [
    "Load file, convert payment date and total to data types\n",
    "Check total rows and columns and datatypes"
   ]
  },
  {
   "cell_type": "code",
   "execution_count": 2,
   "metadata": {},
   "outputs": [
    {
     "name": "stdout",
     "output_type": "stream",
     "text": [
      "Total number of rows: 375\n"
     ]
    }
   ],
   "source": [
    "def within_1_percent(df):\n",
    "    \"\"\"\n",
    "    Filter data within 1% of each other in the Payment Total column and within 5 days of each other.\n",
    "    \"\"\"\n",
    "    if len(df) >= 2:\n",
    "        mean_payment = df['Payment Total'].mean()\n",
    "        upper_limit = mean_payment * 1.01\n",
    "        lower_limit = mean_payment * 0.99\n",
    "        max_date = df['Payment Date'].max()\n",
    "        min_date = df['Payment Date'].min()\n",
    "        if (max_date - min_date).days <= 5:\n",
    "            return df[(df['Payment Total'] <= upper_limit) & (df['Payment Total'] >= lower_limit)]\n",
    "        else:\n",
    "            return pd.DataFrame()\n",
    "    else:\n",
    "        return pd.DataFrame()\n",
    "        \n",
    "# Filter data for transactions over 1000\n",
    "filtered_df = df[df['Payment Total'] > 1000]\n",
    "\n",
    "#choose the first 10000 rows\n",
    "#filtered_df = filtered_df.head(10000)\n",
    "\n",
    "# Group by Supplier Name and filter for transactions within 1% of each other in the Payment Total column\n",
    "grouped_df = filtered_df.groupby('Supplier Name').apply(within_1_percent).reset_index(drop=True)\n",
    "\n",
    "# Exclude results with less than two rows per vendor\n",
    "grouped_df = grouped_df.groupby('Supplier Name').filter(lambda x: len(x) >= 2)\n",
    "\n",
    "# print total number of rows \n",
    "print(\"Total number of rows:\", len(grouped_df))\n",
    "\n",
    "# Remove empty dataframes from the grouped data\n",
    "grouped_df = grouped_df[grouped_df['Payment Total'].notna()]\n",
    "\n"
   ]
  },
  {
   "attachments": {},
   "cell_type": "markdown",
   "metadata": {},
   "source": [
    "Filter for 1000\n",
    "Filter for Same Supplier, +-5d Payment Date, and 1% payment total "
   ]
  },
  {
   "cell_type": "code",
   "execution_count": 3,
   "metadata": {},
   "outputs": [
    {
     "name": "stdout",
     "output_type": "stream",
     "text": [
      "Saving Excel file...\n",
      "Excel file saved successfully!\n"
     ]
    }
   ],
   "source": [
    "# Save the Excel file\n",
    "print(\"Saving Excel file...\")\n",
    "\n",
    "\n",
    "# Create a Tkinter file save dialog box with default extension '.xlsx'\n",
    "file_path = filedialog.asksaveasfilename(defaultextension='.xlsx', filetypes=[('Excel files', '*.xlsx')])\n",
    "\n",
    "# Create an Excel writer object\n",
    "writer = pd.ExcelWriter(file_path, engine='xlsxwriter')\n",
    "\n",
    "# Write the filtered data to a tab\n",
    "filtered_df.to_excel(writer, sheet_name='Filtered Data', index=False)\n",
    "\n",
    "# Write the grouped data to a tab\n",
    "grouped_df.to_excel(writer, sheet_name='Grouped Data', index=False)\n",
    "\n",
    "\n",
    "\n",
    "\n",
    "print(\"Excel file saved successfully!\")\n",
    "\n",
    "# Close the Excel writer object\n",
    "writer.close()"
   ]
  },
  {
   "cell_type": "code",
   "execution_count": 6,
   "metadata": {},
   "outputs": [
    {
     "name": "stdout",
     "output_type": "stream",
     "text": [
      "    Supplier Number  Payment Total Payment Date Invoice Number\n",
      "1          732743.0        5895.43   2012-04-18     7101332853\n",
      "2          732743.0        5895.43   2012-04-18     7101332853\n",
      "3          867619.0        1301.85   2014-05-20          79095\n",
      "4          867619.0        1301.85   2014-05-20          79095\n",
      "5          871874.0        1750.80   2017-04-10         035113\n",
      "6          871874.0        1750.80   2017-04-10         035113\n",
      "7          866643.0        2010.15   2013-05-31          25578\n",
      "8          866643.0        2010.15   2013-05-31          25578\n",
      "9          874759.0        3490.00   2020-02-19         425081\n",
      "10         874759.0        3490.00   2020-02-19         425079\n",
      "11         869725.0       22379.99   2015-12-07       15-17689\n",
      "12         869725.0       22379.99   2015-12-07       15-17689\n",
      "13         874539.0        1097.00   2019-09-09       30008143\n",
      "14         874539.0        1097.00   2019-09-09       30008144\n",
      "15         753302.0        1444.71   2016-12-21         505598\n",
      "16         753302.0        1444.71   2016-12-21         505598\n",
      "17         865271.0        5223.00   2012-05-31           1526\n",
      "18         865271.0        5223.00   2012-05-31           1526\n",
      "19         875338.0        3196.00   2021-03-02      8686177-1\n",
      "20         875338.0        3196.00   2021-03-02      8686188-1\n",
      "21         875338.0        3196.00   2021-03-02      8686169-1\n",
      "22         875338.0        3196.00   2021-03-02      8686178-1\n",
      "23         875338.0        3196.00   2021-03-02      8686184-1\n",
      "24         866623.0        3342.76   2013-05-21        2053045\n",
      "25         866623.0        3342.76   2013-05-21        2053045\n",
      "26         870289.0        1560.00   2015-12-23          23102\n",
      "27         870289.0        1560.00   2015-12-23          23102\n",
      "28         752024.0        1542.23   2016-11-04  313249-299821\n",
      "29         752024.0        1542.23   2016-11-04  313249-299821\n",
      "30         875462.0        1253.56   2021-04-29     0423460-IN\n",
      "31         875462.0        1253.56   2021-04-29     0423460-IN\n",
      "33         867772.0        1605.74   2014-04-11        1614192\n",
      "34         867772.0        1605.74   2014-04-11        1614192\n",
      "35         860155.0        7600.00   2014-01-16         E00782\n",
      "36         860155.0        7600.00   2014-01-16         E00782\n",
      "38         872907.0        3993.00   2017-10-17           3262\n",
      "39         872907.0        3993.00   2017-10-17           3262\n",
      "40         862776.0        2221.21   2017-08-25         B31841\n",
      "41         862776.0        2221.21   2017-08-25         B31841\n",
      "42         869779.0        1655.12   2015-08-18         168887\n",
      "43         869779.0        1655.12   2015-08-18         168887\n",
      "44         871696.0        7247.58   2016-10-21          22183\n",
      "45         871696.0        7247.58   2016-10-21          22183\n",
      "46         875298.0       19980.45   2021-01-07   WGI000009859\n",
      "47         875298.0       19980.45   2021-01-07   WGI000009859\n",
      "48         875513.0        2751.23   2021-07-01       00062207\n",
      "49         875513.0        2751.23   2021-07-01       00062207\n",
      "50         868103.0        4473.13   2014-06-25         129830\n",
      "51         868103.0        4473.13   2014-06-25         129830\n",
      "52         753750.0        4520.00   2013-06-04         490485\n"
     ]
    }
   ],
   "source": [
    "#print first 50 rows of the grouped data just nameb amount date and invoice number\n",
    "print(grouped_df[['Supplier Number', 'Payment Total', 'Payment Date', 'Invoice Number']].head(50))"
   ]
  },
  {
   "cell_type": "markdown",
   "metadata": {},
   "source": []
  }
 ],
 "metadata": {
  "kernelspec": {
   "display_name": "Python 3",
   "language": "python",
   "name": "python3"
  },
  "language_info": {
   "codemirror_mode": {
    "name": "ipython",
    "version": 3
   },
   "file_extension": ".py",
   "mimetype": "text/x-python",
   "name": "python",
   "nbconvert_exporter": "python",
   "pygments_lexer": "ipython3",
   "version": "3.11.2"
  },
  "orig_nbformat": 4
 },
 "nbformat": 4,
 "nbformat_minor": 2
}
